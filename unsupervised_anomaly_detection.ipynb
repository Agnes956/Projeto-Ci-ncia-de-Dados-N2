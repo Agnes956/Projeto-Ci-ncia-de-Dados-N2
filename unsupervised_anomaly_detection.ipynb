{
  "metadata": {
    "language_info": {
      "version": "3.6.1",
      "nbconvert_exporter": "python",
      "name": "python",
      "file_extension": ".py",
      "mimetype": "text/x-python",
      "pygments_lexer": "ipython3",
      "codemirror_mode": {
        "version": 3,
        "name": "ipython"
      }
    },
    "kernelspec": {
      "language": "python",
      "display_name": "Python 3",
      "name": "python3"
    },
    "colab": {
      "provenance": [],
      "include_colab_link": true
    }
  },
  "nbformat_minor": 0,
  "nbformat": 4,
  "cells": [
    {
      "cell_type": "markdown",
      "metadata": {
        "id": "view-in-github",
        "colab_type": "text"
      },
      "source": [
        "<a href=\"https://colab.research.google.com/github/leusto/ciencia_de_dados/blob/main/unsupervised_anomaly_detection.ipynb\" target=\"_parent\"><img src=\"https://colab.research.google.com/assets/colab-badge.svg\" alt=\"Open In Colab\"/></a>"
      ]
    },
    {
      "cell_type": "markdown",
      "source": [
        "# Motivation : \n",
        "Exemplo apresenatdo em: https://www.kaggle.com/code/victorambonati/unsupervised-anomaly-detection\n",
        "\n",
        "# Solução apresentada:\n",
        "- Cluster based anomaly detection (K-mean)\n"
      ],
      "metadata": {
        "_cell_guid": "3975a3a8-8d1d-458c-9c18-7deeccbbf205",
        "_execution_state": "idle",
        "_uuid": "05bef3a5fb05cc62c34cace91131b01c452cff01",
        "id": "eS5rY5Ja4ckq"
      }
    },
    {
      "cell_type": "code",
      "source": [
        "# libraries\n",
        "#%matplotlib notebook\n",
        "\n",
        "import pandas as pd\n",
        "import numpy as np\n",
        "\n",
        "import matplotlib\n",
        "import seaborn\n",
        "import matplotlib.dates as md\n",
        "from matplotlib import pyplot as plt\n",
        "\n",
        "from sklearn import preprocessing\n",
        "from sklearn.decomposition import PCA\n",
        "from sklearn.cluster import KMeans\n",
        "from sklearn.covariance import EllipticEnvelope\n"
      ],
      "metadata": {
        "_cell_guid": "5ac34a72-3992-448a-8ced-12bb329c40a7",
        "_execution_state": "idle",
        "_uuid": "1fd6aebed8495fb904ca1465245627cef301294d",
        "collapsed": true,
        "jupyter": {
          "outputs_hidden": true
        },
        "trusted": true,
        "id": "YyQfOtAJ4ck_"
      },
      "execution_count": null,
      "outputs": []
    },
    {
      "cell_type": "code",
      "source": [
        "# some function for later\n",
        "\n",
        "# return Series of distance between each point and his distance with the closest centroid\n",
        "def getDistanceByPoint(data, model):\n",
        "    distance = pd.Series()\n",
        "    for i in range(0,len(data)):\n",
        "        Xa = np.array(data.loc[i])\n",
        "        Xb = model.cluster_centers_[model.labels_[i]-1]\n",
        "        distance.set_value(i, np.linalg.norm(Xa-Xb))\n",
        "    return distance\n"
      ],
      "metadata": {
        "_cell_guid": "828ca1cd-759b-4d8a-a592-eaf2ca691780",
        "_execution_state": "idle",
        "_uuid": "9eb06b06b146c9aa9533c1a78203dd1025d6e27e",
        "collapsed": true,
        "jupyter": {
          "outputs_hidden": true
        },
        "trusted": true,
        "id": "EUV5k3jI4clB"
      },
      "execution_count": null,
      "outputs": []
    },
    {
      "cell_type": "markdown",
      "source": [
        "# 1 Dados\n",
        "## 1.1 Extração de dados\n",
        "Disponível em: https://www.kaggle.com/boltzmannbrain/nab \n",
        "In realKnownCause/ambient_temperature_system_failure.csv"
      ],
      "metadata": {
        "_cell_guid": "3da6fa0d-ef0f-42d1-bd59-ee4fb3cfc2ab",
        "_execution_state": "idle",
        "_uuid": "7459b17ef14b51410807f57f36e887682f2cad33",
        "id": "xDmREnej4clD"
      }
    },
    {
      "cell_type": "code",
      "source": [
        "df = pd.read_csv(\"../input/realKnownCause/realKnownCause/ambient_temperature_system_failure.csv\")"
      ],
      "metadata": {
        "_cell_guid": "bcb68e2d-981d-403d-bfed-655e8a9bdc3c",
        "_execution_state": "idle",
        "_uuid": "e7d412858498c0da43c102f0ef1db787f1652374",
        "collapsed": true,
        "jupyter": {
          "outputs_hidden": true
        },
        "trusted": true,
        "id": "yG6KPKNM4clE"
      },
      "execution_count": null,
      "outputs": []
    },
    {
      "cell_type": "markdown",
      "source": [
        "## 1.2 Análise de dados"
      ],
      "metadata": {
        "_cell_guid": "fc3bc10f-54df-44e2-b3a2-cc8b59717c01",
        "_execution_state": "idle",
        "_uuid": "44c55c1820894f40f650cba31a4723591315345d",
        "id": "Fp2i6gIf4clE"
      }
    },
    {
      "cell_type": "code",
      "source": [
        "print(df.info())"
      ],
      "metadata": {
        "_cell_guid": "6ce4bfe8-1d91-4172-830e-a760e1d63b1e",
        "_execution_state": "idle",
        "_uuid": "3927fcc620162f8a69100525f83d609cd7b589f4",
        "trusted": true,
        "id": "E2yduRZA4clF"
      },
      "execution_count": null,
      "outputs": []
    },
    {
      "cell_type": "code",
      "source": [
        "# check the timestamp format and frequence \n",
        "print(df['timestamp'].head(10))"
      ],
      "metadata": {
        "_cell_guid": "d5b77b21-3793-42ab-b291-11189be9071f",
        "_execution_state": "idle",
        "_uuid": "5ef1df3d1671939759548a4199fd05c17ec251e1",
        "trusted": true,
        "id": "93hP8LOu4clG"
      },
      "execution_count": null,
      "outputs": []
    },
    {
      "cell_type": "code",
      "source": [
        "# check the temperature mean\n",
        "print(df['value'].mean())"
      ],
      "metadata": {
        "_cell_guid": "5b0e5bea-f11b-4f81-93fd-a817a6f9f579",
        "_execution_state": "idle",
        "_uuid": "899ad93b122b2144c304ff31f93568e183c32c6c",
        "trusted": true,
        "id": "PVv4SFrC4clG"
      },
      "execution_count": null,
      "outputs": []
    },
    {
      "cell_type": "code",
      "source": [
        "# change the type of timestamp column for plotting\n",
        "df['timestamp'] = pd.to_datetime(df['timestamp'])\n",
        "# change fahrenheit to °C (temperature mean= 71 -> fahrenheit)\n",
        "df['value'] = (df['value'] - 32) * 5/9\n",
        "# plot the data\n",
        "df.plot(x='timestamp', y='value')"
      ],
      "metadata": {
        "_cell_guid": "0395bd90-61f4-49db-b157-b58853afe2f8",
        "_execution_state": "idle",
        "_uuid": "d5e63d3da28366ddf2fbaa2653d75536332713dc",
        "trusted": true,
        "id": "yb5xH1tH4clH"
      },
      "execution_count": null,
      "outputs": []
    },
    {
      "cell_type": "markdown",
      "source": [
        "## 1.3 Feature engineering\n",
        "Extração de algumas features importantes"
      ],
      "metadata": {
        "_cell_guid": "90075ebb-0f2e-4258-8901-03a25ce67172",
        "_execution_state": "idle",
        "_uuid": "c62e4d5f8bf8a855aab7bfa86273d731a5638b6d",
        "id": "bIJHCoYK4clI"
      }
    },
    {
      "cell_type": "code",
      "source": [
        "# the hours and if it's night or day (7:00-22:00)\n",
        "df['hours'] = df['timestamp'].dt.hour\n",
        "df['daylight'] = ((df['hours'] >= 7) & (df['hours'] <= 22)).astype(int)"
      ],
      "metadata": {
        "_cell_guid": "e1d36c51-0d96-43c5-8a6c-9f26d7997788",
        "_execution_state": "idle",
        "_uuid": "a86baa1be987a4de8b4b192af475ab4fde077d82",
        "collapsed": true,
        "jupyter": {
          "outputs_hidden": true
        },
        "trusted": true,
        "id": "qsxG77ll4clI"
      },
      "execution_count": null,
      "outputs": []
    },
    {
      "cell_type": "code",
      "source": [
        "# the day of the week (Monday=0, Sunday=6) and if it's a week end day or week day.\n",
        "df['DayOfTheWeek'] = df['timestamp'].dt.dayofweek\n",
        "df['WeekDay'] = (df['DayOfTheWeek'] < 5).astype(int)\n",
        "# An estimation of anomly population of the dataset (necessary for several algorithm)\n",
        "outliers_fraction = 0.01"
      ],
      "metadata": {
        "_cell_guid": "b5dc68e4-89b0-4248-853d-e00e5e9ef4e9",
        "_execution_state": "idle",
        "_uuid": "c3d4a71542f5080b5f87a27cf681f542a665a34c",
        "collapsed": true,
        "jupyter": {
          "outputs_hidden": true
        },
        "trusted": true,
        "id": "VUA5wQRd4clJ"
      },
      "execution_count": null,
      "outputs": []
    },
    {
      "cell_type": "code",
      "source": [
        "# time with int to plot easily\n",
        "df['time_epoch'] = (df['timestamp'].astype(np.int64)/100000000000).astype(np.int64)"
      ],
      "metadata": {
        "_cell_guid": "14cd3d26-a411-47f8-9238-2794284e8c9b",
        "_execution_state": "idle",
        "_uuid": "189cd0890e09373ed847b258d1354bd6eae7bfd8",
        "collapsed": true,
        "jupyter": {
          "outputs_hidden": true
        },
        "trusted": true,
        "id": "1MjhsHM24clJ"
      },
      "execution_count": null,
      "outputs": []
    },
    {
      "cell_type": "code",
      "source": [
        "# creation of 4 distinct categories that seem useful (week end/day week & night/day)\n",
        "df['categories'] = df['WeekDay']*2 + df['daylight']\n",
        "\n",
        "a = df.loc[df['categories'] == 0, 'value']\n",
        "b = df.loc[df['categories'] == 1, 'value']\n",
        "c = df.loc[df['categories'] == 2, 'value']\n",
        "d = df.loc[df['categories'] == 3, 'value']\n",
        "\n",
        "fig, ax = plt.subplots()\n",
        "a_heights, a_bins = np.histogram(a)\n",
        "b_heights, b_bins = np.histogram(b, bins=a_bins)\n",
        "c_heights, c_bins = np.histogram(c, bins=a_bins)\n",
        "d_heights, d_bins = np.histogram(d, bins=a_bins)\n",
        "\n",
        "width = (a_bins[1] - a_bins[0])/6\n",
        "\n",
        "ax.bar(a_bins[:-1], a_heights*100/a.count(), width=width, facecolor='blue', label='WeekEndNight')\n",
        "ax.bar(b_bins[:-1]+width, (b_heights*100/b.count()), width=width, facecolor='green', label ='WeekEndLight')\n",
        "ax.bar(c_bins[:-1]+width*2, (c_heights*100/c.count()), width=width, facecolor='red', label ='WeekDayNight')\n",
        "ax.bar(d_bins[:-1]+width*3, (d_heights*100/d.count()), width=width, facecolor='black', label ='WeekDayLight')\n",
        "\n",
        "plt.legend()\n",
        "plt.show()"
      ],
      "metadata": {
        "_cell_guid": "0c5f5102-2122-41da-980d-c58c8438f190",
        "_execution_state": "idle",
        "_uuid": "60e1a0334d22e2c0c96ac279cc48c66f99b43248",
        "trusted": true,
        "id": "CxU8Otc04clK"
      },
      "execution_count": null,
      "outputs": []
    },
    {
      "cell_type": "markdown",
      "source": [
        "Podemos ver que a temperatura é mais estável durante o dia do dia útil.\n",
        "\n",
        "\n",
        "# 2 Models\n",
        "## 2.1 Cluster only\n",
        "#### Use for collective anomalies (unordered). \n",
        "\n",
        "Agrupamos a combinação usual de recursos. Os pontos que estão distantes do aglomerado são pontos com combinação usual de feições. Consideramos esses pontos como anomalias."
      ],
      "metadata": {
        "_cell_guid": "57fc7caa-fb96-491a-9857-3c6e58e8cade",
        "_execution_state": "idle",
        "_uuid": "3d980e3fcede78e8b9a3719cf3ad1da9ece24bff",
        "id": "5g4zyz0P4clK"
      }
    },
    {
      "cell_type": "code",
      "source": [
        "# Take useful feature and standardize them\n",
        "data = df[['value', 'hours', 'daylight', 'DayOfTheWeek', 'WeekDay']]\n",
        "min_max_scaler = preprocessing.StandardScaler()\n",
        "np_scaled = min_max_scaler.fit_transform(data)\n",
        "data = pd.DataFrame(np_scaled)\n",
        "# reduce to 2 importants features\n",
        "pca = PCA(n_components=2)\n",
        "data = pca.fit_transform(data)\n",
        "# standardize these 2 new features\n",
        "min_max_scaler = preprocessing.StandardScaler()\n",
        "np_scaled = min_max_scaler.fit_transform(data)\n",
        "data = pd.DataFrame(np_scaled)"
      ],
      "metadata": {
        "_cell_guid": "01224c89-4372-4f8b-bfb8-d13eb4357264",
        "_execution_state": "idle",
        "_uuid": "7dfbf8b613b235120c39e11a8a87f3c5e90022e3",
        "collapsed": true,
        "jupyter": {
          "outputs_hidden": true
        },
        "trusted": true,
        "id": "VwaHY02T4clL"
      },
      "execution_count": null,
      "outputs": []
    },
    {
      "cell_type": "code",
      "source": [
        "# calculate with different number of centroids to see the loss plot (elbow method)\n",
        "n_cluster = range(1, 20)\n",
        "kmeans = [KMeans(n_clusters=i).fit(data) for i in n_cluster]\n",
        "scores = [kmeans[i].score(data) for i in range(len(kmeans))]\n",
        "fig, ax = plt.subplots()\n",
        "ax.plot(n_cluster, scores)\n",
        "plt.show()"
      ],
      "metadata": {
        "_cell_guid": "be39cb8b-bcc7-4288-95cb-8c95291a55ba",
        "_execution_state": "idle",
        "_uuid": "452855f2761685d48a0bf360f253ecd18fe379fa",
        "trusted": true,
        "id": "u-vUaqHD4clL"
      },
      "execution_count": null,
      "outputs": []
    },
    {
      "cell_type": "code",
      "source": [
        "# Not clear for me, I choose 15 centroids arbitrarily and add these data to the central dataframe\n",
        "df['cluster'] = kmeans[14].predict(data)\n",
        "df['principal_feature1'] = data[0]\n",
        "df['principal_feature2'] = data[1]\n",
        "df['cluster'].value_counts()"
      ],
      "metadata": {
        "_cell_guid": "69beec11-d424-4646-b964-d5fbbf8a6550",
        "_execution_state": "idle",
        "_uuid": "0736ab2c718cbc4138b07deef6c20a690dcecdc7",
        "trusted": true,
        "id": "VKmMpTZu4clL"
      },
      "execution_count": null,
      "outputs": []
    },
    {
      "cell_type": "code",
      "source": [
        "#plot the different clusters with the 2 main features\n",
        "fig, ax = plt.subplots()\n",
        "colors = {0:'red', 1:'blue', 2:'green', 3:'pink', 4:'black', 5:'orange', 6:'cyan', 7:'yellow', 8:'brown', 9:'purple', 10:'white', 11: 'grey', 12:'lightblue', 13:'lightgreen', 14: 'darkgrey'}\n",
        "ax.scatter(df['principal_feature1'], df['principal_feature2'], c=df[\"cluster\"].apply(lambda x: colors[x]))\n",
        "plt.show()"
      ],
      "metadata": {
        "_cell_guid": "d14ac727-eac4-4ae1-99c8-b9fb9b1301e7",
        "_execution_state": "idle",
        "_uuid": "64ac4322fbf2bc36539e0a60ff8e45254dc63afe",
        "trusted": true,
        "id": "w3aoRqB44clM"
      },
      "execution_count": null,
      "outputs": []
    },
    {
      "cell_type": "code",
      "source": [
        "# get the distance between each point and its nearest centroid. The biggest distances are considered as anomaly\n",
        "distance = getDistanceByPoint(data, kmeans[14])\n",
        "number_of_outliers = int(outliers_fraction*len(distance))\n",
        "threshold = distance.nlargest(number_of_outliers).min()\n",
        "# anomaly21 contain the anomaly result of method 2.1 Cluster (0:normal, 1:anomaly) \n",
        "df['anomaly21'] = (distance >= threshold).astype(int)"
      ],
      "metadata": {
        "_cell_guid": "cd260641-7e32-4305-b7a8-008fcff4dcfc",
        "_execution_state": "idle",
        "_uuid": "1a84160cfb1d419c3a0a57530c079bfa6b1a11b1",
        "collapsed": true,
        "jupyter": {
          "outputs_hidden": true
        },
        "trusted": true,
        "id": "55qu43YT4clM"
      },
      "execution_count": null,
      "outputs": []
    },
    {
      "cell_type": "code",
      "source": [
        "# visualisation of anomaly with cluster view\n",
        "fig, ax = plt.subplots()\n",
        "colors = {0:'blue', 1:'red'}\n",
        "ax.scatter(df['principal_feature1'], df['principal_feature2'], c=df[\"anomaly21\"].apply(lambda x: colors[x]))\n",
        "plt.show()"
      ],
      "metadata": {
        "_cell_guid": "38a6fd23-954f-400c-8065-f4bea22183d5",
        "_execution_state": "idle",
        "_uuid": "40e05059a9a66b52fba53c654232a356df3a8828",
        "trusted": true,
        "id": "B8-GAtmn4clN"
      },
      "execution_count": null,
      "outputs": []
    },
    {
      "cell_type": "code",
      "source": [
        "# visualisation of anomaly throughout time (viz 1)\n",
        "fig, ax = plt.subplots()\n",
        "\n",
        "a = df.loc[df['anomaly21'] == 1, ['time_epoch', 'value']] #anomaly\n",
        "\n",
        "ax.plot(df['time_epoch'], df['value'], color='blue')\n",
        "ax.scatter(a['time_epoch'],a['value'], color='red')\n",
        "plt.show()"
      ],
      "metadata": {
        "_cell_guid": "56a2455c-ee60-491e-8010-aab56eeb8e3f",
        "_execution_state": "idle",
        "_uuid": "8ae64bd8c8b942e2b8aaf9e6b75d40df7b5c4c6c",
        "trusted": true,
        "id": "0H5vmiua4clN"
      },
      "execution_count": null,
      "outputs": []
    },
    {
      "cell_type": "code",
      "source": [
        "# visualisation of anomaly with temperature repartition (viz 2)\n",
        "a = df.loc[df['anomaly21'] == 0, 'value']\n",
        "b = df.loc[df['anomaly21'] == 1, 'value']\n",
        "\n",
        "fig, axs = plt.subplots()\n",
        "axs.hist([a,b], bins=32, stacked=True, color=['blue', 'red'], label=['normal', 'anomaly'])\n",
        "plt.legend()\n",
        "plt.show()"
      ],
      "metadata": {
        "_cell_guid": "9926f2fb-6fa2-44e8-8b97-c5e4b6de311f",
        "_execution_state": "idle",
        "_uuid": "3b12e1fe4c788500c1734de1c676dd4f429afe7c",
        "trusted": true,
        "id": "vCLoTt7P4clN"
      },
      "execution_count": null,
      "outputs": []
    }
  ]
}