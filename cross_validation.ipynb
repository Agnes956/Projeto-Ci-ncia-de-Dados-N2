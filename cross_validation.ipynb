{
  "cells": [
    {
      "cell_type": "markdown",
      "metadata": {
        "id": "view-in-github",
        "colab_type": "text"
      },
      "source": [
        "<a href=\"https://colab.research.google.com/github/leusto/ciencia_de_dados/blob/main/cross_validation.ipynb\" target=\"_parent\"><img src=\"https://colab.research.google.com/assets/colab-badge.svg\" alt=\"Open In Colab\"/></a>"
      ]
    },
    {
      "cell_type": "markdown",
      "source": [
        "## **Validação Cruzada e Análise de Desempenho**\n",
        "\n",
        "*Prof. Dr. Leandro Augusto da Silva*\n",
        "\n",
        "Neste material encontram-se um exemplo que mostra qual o processo da validação cruzada e o uso da matriz de confusão.\n",
        "\n",
        "> Bloco com recuo\n",
        "\n"
      ],
      "metadata": {
        "id": "hNppQc9IHDwB"
      },
      "id": "hNppQc9IHDwB"
    },
    {
      "cell_type": "code",
      "execution_count": null,
      "id": "6d60df3b",
      "metadata": {
        "id": "6d60df3b"
      },
      "outputs": [],
      "source": [
        "import numpy as np\n",
        "from sklearn.model_selection import KFold"
      ]
    },
    {
      "cell_type": "code",
      "execution_count": 34,
      "id": "831bc077",
      "metadata": {
        "id": "831bc077"
      },
      "outputs": [],
      "source": [
        "kf = KFold(n_splits=6)"
      ]
    },
    {
      "cell_type": "code",
      "execution_count": 35,
      "id": "b22c0018",
      "metadata": {
        "id": "b22c0018"
      },
      "outputs": [],
      "source": [
        "X = np.array([[1], [2], [3], [4], [5], [6]])"
      ]
    },
    {
      "cell_type": "code",
      "execution_count": 36,
      "id": "eede7004",
      "metadata": {
        "colab": {
          "base_uri": "https://localhost:8080/"
        },
        "id": "eede7004",
        "outputId": "4728a43c-12e3-4789-aa3f-3dccf9a7c669"
      },
      "outputs": [
        {
          "output_type": "execute_result",
          "data": {
            "text/plain": [
              "array([[1],\n",
              "       [2],\n",
              "       [3],\n",
              "       [4],\n",
              "       [5],\n",
              "       [6]])"
            ]
          },
          "metadata": {},
          "execution_count": 36
        }
      ],
      "source": [
        "X"
      ]
    },
    {
      "cell_type": "code",
      "execution_count": 37,
      "id": "af8d87cd",
      "metadata": {
        "colab": {
          "base_uri": "https://localhost:8080/"
        },
        "id": "af8d87cd",
        "outputId": "e4955177-bc2d-421e-a652-b1c4f8a3420f"
      },
      "outputs": [
        {
          "output_type": "stream",
          "name": "stdout",
          "text": [
            "[1 2 3 4 5] [0]\n",
            "[0 2 3 4 5] [1]\n",
            "[0 1 3 4 5] [2]\n",
            "[0 1 2 4 5] [3]\n",
            "[0 1 2 3 5] [4]\n",
            "[0 1 2 3 4] [5]\n"
          ]
        }
      ],
      "source": [
        "for train, test in kf.split(X):\n",
        "     print(\"%s %s\" % (train, test))"
      ]
    },
    {
      "cell_type": "code",
      "source": [
        "y = np.array([[1], [1], [1], [2], [2], [2]])\n",
        "yp = np.array([[1], [2], [2], [2], [2], [2]])\n"
      ],
      "metadata": {
        "id": "i2xKE6TLEFX6"
      },
      "id": "i2xKE6TLEFX6",
      "execution_count": 68,
      "outputs": []
    },
    {
      "cell_type": "code",
      "source": [
        "from sklearn.metrics import confusion_matrix,ConfusionMatrixDisplay"
      ],
      "metadata": {
        "id": "x42xgdIoEiQb"
      },
      "id": "x42xgdIoEiQb",
      "execution_count": 56,
      "outputs": []
    },
    {
      "cell_type": "code",
      "source": [
        "cm = confusion_matrix(y, yp)"
      ],
      "metadata": {
        "id": "9ghgGyeaEBEO"
      },
      "id": "9ghgGyeaEBEO",
      "execution_count": 69,
      "outputs": []
    },
    {
      "cell_type": "code",
      "source": [
        "cm"
      ],
      "metadata": {
        "colab": {
          "base_uri": "https://localhost:8080/"
        },
        "id": "XRWf5WwjEnQu",
        "outputId": "1b9d96d5-42c3-492e-e996-b23f09802e03"
      },
      "id": "XRWf5WwjEnQu",
      "execution_count": 70,
      "outputs": [
        {
          "output_type": "execute_result",
          "data": {
            "text/plain": [
              "array([[1, 2],\n",
              "       [0, 3]])"
            ]
          },
          "metadata": {},
          "execution_count": 70
        }
      ]
    },
    {
      "cell_type": "code",
      "source": [
        "disp = ConfusionMatrixDisplay(confusion_matrix=cm,display_labels = np.array([1,2]))"
      ],
      "metadata": {
        "id": "LJKFbni8FPdH"
      },
      "id": "LJKFbni8FPdH",
      "execution_count": 71,
      "outputs": []
    },
    {
      "cell_type": "code",
      "source": [
        "disp.plot()"
      ],
      "metadata": {
        "colab": {
          "base_uri": "https://localhost:8080/",
          "height": 301
        },
        "id": "_Mk5zwh-FfdP",
        "outputId": "b8dc5bc0-fa73-458d-eab8-e29135743b19"
      },
      "id": "_Mk5zwh-FfdP",
      "execution_count": 72,
      "outputs": [
        {
          "output_type": "execute_result",
          "data": {
            "text/plain": [
              "<sklearn.metrics._plot.confusion_matrix.ConfusionMatrixDisplay at 0x7f9469370e50>"
            ]
          },
          "metadata": {},
          "execution_count": 72
        },
        {
          "output_type": "display_data",
          "data": {
            "text/plain": [
              "<Figure size 432x288 with 2 Axes>"
            ],
            "image/png": "[encoded data removed]"
          },
          "metadata": {
            "needs_background": "light"
          }
        }
      ]
    },
    {
      "cell_type": "markdown",
      "id": "3c4c8a82",
      "metadata": {
        "id": "3c4c8a82"
      },
      "source": [
        "Referências\n",
        "\n",
        "https://scikit-learn.org/stable/modules/cross_validation.html"
      ]
    }
  ],
  "metadata": {
    "kernelspec": {
      "display_name": "Python 3 (Spyder)",
      "language": "python3",
      "name": "python3"
    },
    "language_info": {
      "codemirror_mode": {
        "name": "ipython",
        "version": 3
      },
      "file_extension": ".py",
      "mimetype": "text/x-python",
      "name": "python",
      "nbconvert_exporter": "python",
      "pygments_lexer": "ipython3",
      "version": "3.9.13"
    },
    "colab": {
      "provenance": [],
      "include_colab_link": true
    }
  },
  "nbformat": 4,
  "nbformat_minor": 5
}