{
  "cells": [
    {
      "cell_type": "markdown",
      "metadata": {
        "id": "view-in-github",
        "colab_type": "text"
      },
      "source": [
        "<a href=\"https://colab.research.google.com/github/leusto/ciencia_de_dados/blob/main/cluster_validity.ipynb\" target=\"_parent\"><img src=\"https://colab.research.google.com/assets/colab-badge.svg\" alt=\"Open In Colab\"/></a>"
      ]
    },
    {
      "cell_type": "markdown",
      "id": "a73c016f",
      "metadata": {
        "id": "a73c016f"
      },
      "source": [
        "Rand index"
      ]
    },
    {
      "cell_type": "code",
      "execution_count": null,
      "id": "205d0759",
      "metadata": {
        "id": "205d0759",
        "outputId": "ec91f04b-de8f-48ab-9678-7e9125f0f815"
      },
      "outputs": [
        {
          "data": {
            "text/plain": [
              "0.6666666666666666"
            ]
          },
          "execution_count": 5,
          "metadata": {},
          "output_type": "execute_result"
        }
      ],
      "source": [
        "from sklearn import metrics\n",
        "labels_true = [0, 0, 0, 1, 1, 1]\n",
        "labels_pred = [0, 0, 1, 1, 2, 2]\n",
        "metrics.rand_score(labels_true, labels_pred)"
      ]
    },
    {
      "cell_type": "markdown",
      "id": "e73cc6cc",
      "metadata": {
        "id": "e73cc6cc"
      },
      "source": [
        "Mutual Information based scores"
      ]
    },
    {
      "cell_type": "code",
      "execution_count": null,
      "id": "1904af9a",
      "metadata": {
        "id": "1904af9a",
        "outputId": "02e38f66-d2aa-4974-9a65-87b62da58c1d"
      },
      "outputs": [
        {
          "data": {
            "text/plain": [
              "0.2987924581708901"
            ]
          },
          "execution_count": 2,
          "metadata": {},
          "output_type": "execute_result"
        }
      ],
      "source": [
        "metrics.adjusted_mutual_info_score(labels_true, labels_pred) "
      ]
    },
    {
      "cell_type": "markdown",
      "id": "7831649e",
      "metadata": {
        "id": "7831649e"
      },
      "source": [
        "Homogeneity"
      ]
    },
    {
      "cell_type": "code",
      "execution_count": null,
      "id": "e068c326",
      "metadata": {
        "id": "e068c326",
        "outputId": "fc5a9c96-dba3-4ec9-c87c-24cc52a17ef6"
      },
      "outputs": [
        {
          "data": {
            "text/plain": [
              "0.6666666666666669"
            ]
          },
          "execution_count": 3,
          "metadata": {},
          "output_type": "execute_result"
        }
      ],
      "source": [
        "metrics.homogeneity_score(labels_true, labels_pred)"
      ]
    },
    {
      "cell_type": "markdown",
      "id": "4ae4fd5d",
      "metadata": {
        "id": "4ae4fd5d"
      },
      "source": [
        "completeness"
      ]
    },
    {
      "cell_type": "code",
      "execution_count": null,
      "id": "0c1766af",
      "metadata": {
        "id": "0c1766af",
        "outputId": "7d754881-cd65-498b-de20-77824c21a66a"
      },
      "outputs": [
        {
          "data": {
            "text/plain": [
              "0.420619835714305"
            ]
          },
          "execution_count": 8,
          "metadata": {},
          "output_type": "execute_result"
        }
      ],
      "source": [
        "metrics.completeness_score(labels_true, labels_pred)"
      ]
    },
    {
      "cell_type": "markdown",
      "id": "540c687c",
      "metadata": {
        "id": "540c687c"
      },
      "source": [
        "V-measure"
      ]
    },
    {
      "cell_type": "code",
      "execution_count": null,
      "id": "7a754cc9",
      "metadata": {
        "id": "7a754cc9",
        "outputId": "865e7fa1-a4f8-42f9-965a-d2d6cdf1ed95"
      },
      "outputs": [
        {
          "data": {
            "text/plain": [
              "0.5467344787062375"
            ]
          },
          "execution_count": 6,
          "metadata": {},
          "output_type": "execute_result"
        }
      ],
      "source": [
        "metrics.v_measure_score(labels_true, labels_pred, beta=0.6)"
      ]
    },
    {
      "cell_type": "markdown",
      "id": "1a8c39db",
      "metadata": {
        "id": "1a8c39db"
      },
      "source": [
        "Fowlkes-Mallows scores"
      ]
    },
    {
      "cell_type": "code",
      "execution_count": null,
      "id": "9eb9b6a1",
      "metadata": {
        "id": "9eb9b6a1",
        "outputId": "b95e5041-3e0d-4d8a-cb70-2ba33b79660e"
      },
      "outputs": [
        {
          "data": {
            "text/plain": [
              "0.4714045207910317"
            ]
          },
          "execution_count": 7,
          "metadata": {},
          "output_type": "execute_result"
        }
      ],
      "source": [
        "metrics.fowlkes_mallows_score(labels_true, labels_pred)"
      ]
    },
    {
      "cell_type": "markdown",
      "id": "12df5722",
      "metadata": {
        "id": "12df5722"
      },
      "source": [
        "Silhouette Coefficient¶"
      ]
    },
    {
      "cell_type": "code",
      "execution_count": null,
      "id": "3daab38b",
      "metadata": {
        "id": "3daab38b"
      },
      "outputs": [],
      "source": [
        "from sklearn import metrics\n",
        "from sklearn.metrics import pairwise_distances\n",
        "from sklearn import datasets\n",
        "X, y = datasets.load_iris(return_X_y=True)"
      ]
    },
    {
      "cell_type": "code",
      "execution_count": null,
      "id": "47dc1240",
      "metadata": {
        "id": "47dc1240"
      },
      "outputs": [],
      "source": [
        "import numpy as np\n",
        "from sklearn.cluster import KMeans\n",
        "kmeans_model = KMeans(n_clusters=3, random_state=1).fit(X)\n",
        "labels = kmeans_model.labels_"
      ]
    },
    {
      "cell_type": "code",
      "execution_count": null,
      "id": "829f2415",
      "metadata": {
        "id": "829f2415",
        "outputId": "ba68596e-ded3-41b7-cd76-178a55254cd6"
      },
      "outputs": [
        {
          "data": {
            "text/plain": [
              "0.5528190123564095"
            ]
          },
          "execution_count": 12,
          "metadata": {},
          "output_type": "execute_result"
        }
      ],
      "source": [
        "metrics.silhouette_score(X, labels, metric='euclidean')"
      ]
    },
    {
      "cell_type": "markdown",
      "id": "a3dcc0d5",
      "metadata": {
        "id": "a3dcc0d5"
      },
      "source": [
        "Davies-Bouldin Index"
      ]
    },
    {
      "cell_type": "code",
      "execution_count": null,
      "id": "93cba581",
      "metadata": {
        "id": "93cba581",
        "outputId": "920d0b2f-4550-45c6-a30f-aab9ee2ab7f5"
      },
      "outputs": [
        {
          "data": {
            "text/plain": [
              "0.6619715465007465"
            ]
          },
          "execution_count": 14,
          "metadata": {},
          "output_type": "execute_result"
        }
      ],
      "source": [
        "metrics.davies_bouldin_score(X, labels)"
      ]
    },
    {
      "cell_type": "markdown",
      "id": "30525976",
      "metadata": {
        "id": "30525976"
      },
      "source": [
        "Referencias\n",
        "\n",
        "https://scikit-learn.org/stable/modules/clustering.html\n",
        "\n",
        "https://scikit-learn.org/stable/modules/clustering.html#hierarchical-clustering"
      ]
    },
    {
      "cell_type": "code",
      "execution_count": null,
      "id": "561123de",
      "metadata": {
        "id": "561123de"
      },
      "outputs": [],
      "source": []
    }
  ],
  "metadata": {
    "kernelspec": {
      "display_name": "Python 3 (Spyder)",
      "language": "python3",
      "name": "python3"
    },
    "language_info": {
      "codemirror_mode": {
        "name": "ipython",
        "version": 3
      },
      "file_extension": ".py",
      "mimetype": "text/x-python",
      "name": "python",
      "nbconvert_exporter": "python",
      "pygments_lexer": "ipython3",
      "version": "3.9.13"
    },
    "colab": {
      "provenance": [],
      "include_colab_link": true
    }
  },
  "nbformat": 4,
  "nbformat_minor": 5
}