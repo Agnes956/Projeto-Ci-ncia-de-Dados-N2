{
  "cells": [
    {
      "cell_type": "markdown",
      "metadata": {
        "id": "view-in-github",
        "colab_type": "text"
      },
      "source": [
        "<a href=\"https://colab.research.google.com/github/leusto/ciencia_de_dados/blob/main/hclust.ipynb\" target=\"_parent\"><img src=\"https://colab.research.google.com/assets/colab-badge.svg\" alt=\"Open In Colab\"/></a>"
      ]
    },
    {
      "cell_type": "code",
      "execution_count": 1,
      "id": "9ad8a1ac",
      "metadata": {
        "id": "9ad8a1ac"
      },
      "outputs": [],
      "source": [
        "import numpy as np\n",
        "import pandas as pd\n",
        "from matplotlib import pyplot as plt\n",
        "from sklearn.datasets import make_blobs\n",
        "from sklearn.cluster import AgglomerativeClustering\n",
        "import scipy.cluster.hierarchy as shc"
      ]
    },
    {
      "cell_type": "code",
      "execution_count": null,
      "id": "7b7b313e",
      "metadata": {
        "id": "7b7b313e"
      },
      "outputs": [],
      "source": [
        "X, y = make_blobs(n_samples=300, centers=4, cluster_std=0.60, random_state=0)\n",
        "plt.scatter(X[:,0], X[:,1])"
      ]
    },
    {
      "cell_type": "code",
      "execution_count": null,
      "id": "2941e2ae",
      "metadata": {
        "id": "2941e2ae"
      },
      "outputs": [],
      "source": [
        "clustering_model = AgglomerativeClustering(n_clusters=4, affinity='euclidean', linkage='single',compute_distances='True')\n",
        "clustering_model.fit(X)\n",
        "clustering_model.labels_\n"
      ]
    },
    {
      "cell_type": "code",
      "source": [
        "clustering_model.labels_"
      ],
      "metadata": {
        "colab": {
          "base_uri": "https://localhost:8080/"
        },
        "id": "qEyyWiBqb3Mf",
        "outputId": "6b897392-1981-440f-d020-3b74009f5577"
      },
      "id": "qEyyWiBqb3Mf",
      "execution_count": 11,
      "outputs": [
        {
          "output_type": "execute_result",
          "data": {
            "text/plain": [
              "array([1, 3, 0, 3, 1, 1, 0, 0, 3, 3, 0, 3, 0, 3, 1, 0, 0, 1, 0, 0, 1, 1,\n",
              "       0, 0, 0, 0, 1, 0, 0, 0, 3, 3, 0, 3, 3, 3, 3, 3, 0, 1, 0, 0, 0, 0,\n",
              "       0, 0, 3, 0, 3, 1, 0, 1, 3, 1, 1, 0, 3, 0, 3, 1, 3, 0, 3, 0, 0, 0,\n",
              "       3, 1, 3, 0, 0, 0, 3, 0, 0, 3, 0, 0, 1, 3, 1, 0, 1, 1, 3, 0, 1, 0,\n",
              "       3, 3, 0, 1, 3, 0, 0, 0, 1, 1, 0, 0, 3, 1, 3, 1, 0, 1, 1, 0, 3, 0,\n",
              "       0, 0, 1, 3, 1, 0, 3, 1, 1, 0, 0, 1, 0, 1, 1, 1, 1, 0, 1, 0, 3, 0,\n",
              "       0, 1, 3, 0, 0, 3, 0, 3, 3, 0, 0, 0, 0, 0, 3, 0, 3, 3, 3, 0, 3, 0,\n",
              "       1, 0, 3, 0, 1, 0, 3, 0, 0, 1, 0, 0, 0, 0, 1, 0, 0, 3, 1, 0, 0, 3,\n",
              "       1, 1, 0, 0, 1, 0, 0, 0, 0, 0, 0, 0, 1, 3, 0, 0, 0, 0, 0, 0, 0, 0,\n",
              "       0, 3, 0, 0, 1, 0, 0, 2, 0, 3, 0, 3, 0, 0, 0, 0, 3, 0, 0, 1, 1, 0,\n",
              "       3, 1, 1, 0, 1, 0, 0, 3, 3, 0, 0, 3, 0, 1, 0, 0, 1, 0, 3, 0, 1, 0,\n",
              "       1, 3, 3, 3, 3, 0, 0, 3, 0, 0, 1, 0, 0, 0, 0, 1, 1, 3, 0, 0, 0, 1,\n",
              "       3, 0, 0, 3, 0, 1, 1, 0, 0, 0, 1, 1, 1, 0, 3, 3, 1, 1, 0, 1, 1, 1,\n",
              "       3, 0, 3, 0, 1, 1, 3, 3, 3, 1, 1, 0, 3, 0])"
            ]
          },
          "metadata": {},
          "execution_count": 11
        }
      ]
    },
    {
      "cell_type": "code",
      "execution_count": null,
      "id": "00b18ad9",
      "metadata": {
        "id": "00b18ad9"
      },
      "outputs": [],
      "source": [
        "clustering_model.distances_"
      ]
    },
    {
      "cell_type": "code",
      "execution_count": null,
      "id": "54b25186",
      "metadata": {
        "id": "54b25186"
      },
      "outputs": [],
      "source": [
        "data_labels = clustering_model.labels_\n",
        "#plt.scatter(X[:,0], X[:,1])\n",
        "plt.scatter(X[:,0], X[:,1], c = data_labels, label=data_labels)"
      ]
    },
    {
      "cell_type": "code",
      "execution_count": 6,
      "id": "42f06038",
      "metadata": {
        "id": "42f06038"
      },
      "outputs": [],
      "source": [
        "# Selecting Annual Income and Spending Scores by index\n",
        "clusters = shc.linkage(X, \n",
        "            method='single', \n",
        "            metric=\"euclidean\")"
      ]
    },
    {
      "cell_type": "code",
      "execution_count": null,
      "id": "9d908b58",
      "metadata": {
        "id": "9d908b58"
      },
      "outputs": [],
      "source": [
        "plt.figure(figsize=(10, 7))\n",
        "plt.title(\"Customers Dendrogram\")\n",
        "shc.dendrogram(Z=clusters)\n",
        "plt.show()"
      ]
    },
    {
      "cell_type": "markdown",
      "source": [
        "**Referências**\n",
        "\n",
        "https://scikit-learn.org/stable/modules/clustering.html#hierarchical-clustering\n",
        "\n",
        "https://scikit-learn.org/stable/modules/generated/sklearn.cluster.AgglomerativeClustering.html\n",
        "    \n",
        "https://stackabuse.com/hierarchical-clustering-with-python-and-scikit-learn/"
      ],
      "metadata": {
        "id": "UTCM065BY4Qa"
      },
      "id": "UTCM065BY4Qa"
    }
  ],
  "metadata": {
    "kernelspec": {
      "display_name": "Python 3 (Spyder)",
      "language": "python3",
      "name": "python3"
    },
    "language_info": {
      "codemirror_mode": {
        "name": "ipython",
        "version": 3
      },
      "file_extension": ".py",
      "mimetype": "text/x-python",
      "name": "python",
      "nbconvert_exporter": "python",
      "pygments_lexer": "ipython3",
      "version": "3.9.13"
    },
    "colab": {
      "provenance": [],
      "include_colab_link": true
    }
  },
  "nbformat": 4,
  "nbformat_minor": 5
}