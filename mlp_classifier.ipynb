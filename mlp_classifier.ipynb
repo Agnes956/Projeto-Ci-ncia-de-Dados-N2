{
  "cells": [
    {
      "cell_type": "markdown",
      "metadata": {
        "id": "view-in-github",
        "colab_type": "text"
      },
      "source": [
        "<a href=\"https://colab.research.google.com/github/leusto/ciencia_de_dados/blob/main/mlp_classifier.ipynb\" target=\"_parent\"><img src=\"https://colab.research.google.com/assets/colab-badge.svg\" alt=\"Open In Colab\"/></a>"
      ]
    },
    {
      "cell_type": "code",
      "execution_count": 5,
      "id": "6d44b43d",
      "metadata": {
        "id": "6d44b43d"
      },
      "outputs": [],
      "source": [
        "from sklearn.metrics import accuracy_score, confusion_matrix\n",
        "import numpy as np\n",
        "from matplotlib import pyplot as plt\n",
        "from matplotlib.colors import ListedColormap\n",
        "from sklearn.model_selection import train_test_split\n",
        "from sklearn.preprocessing import StandardScaler\n",
        "from sklearn.datasets import make_moons, make_circles, make_classification\n",
        "from sklearn.neural_network import MLPClassifier\n",
        "from sklearn.pipeline import make_pipeline\n",
        "from sklearn import preprocessing\n",
        "from sklearn.datasets import make_blobs\n"
      ]
    },
    {
      "cell_type": "code",
      "execution_count": 2,
      "id": "58e6879b",
      "metadata": {
        "colab": {
          "base_uri": "https://localhost:8080/"
        },
        "id": "58e6879b",
        "outputId": "c938bf6d-f9c0-4d56-9c78-054635a2c09e"
      },
      "outputs": [
        {
          "output_type": "execute_result",
          "data": {
            "text/plain": [
              "MLPClassifier(hidden_layer_sizes=(5, 5), learning_rate_init=0.01, max_iter=5000,\n",
              "              random_state=1, solver='sgd')"
            ]
          },
          "metadata": {},
          "execution_count": 2
        }
      ],
      "source": [
        "X = [[0., 0.], [0., 1.], [1., 0.], [1., 1.]]\n",
        "y = [1, 0, 0, 1]\n",
        "clf = MLPClassifier(solver='sgd', max_iter=5000, learning_rate_init = 0.01,hidden_layer_sizes=(5, 5),random_state=1)\n",
        "clf.fit(X, y)\n",
        "#MLPClassifier(alpha=1e-05, hidden_layer_sizes=(5, 5), random_state=1,\n",
        "#              solver='lbfgs')"
      ]
    },
    {
      "cell_type": "code",
      "execution_count": 3,
      "id": "477a8a1d",
      "metadata": {
        "colab": {
          "base_uri": "https://localhost:8080/"
        },
        "id": "477a8a1d",
        "outputId": "ada69b26-c7ce-4028-f61b-9d7ea695f85c"
      },
      "outputs": [
        {
          "output_type": "execute_result",
          "data": {
            "text/plain": [
              "array([1, 0, 0, 1])"
            ]
          },
          "metadata": {},
          "execution_count": 3
        }
      ],
      "source": [
        "clf.predict([[0., 0.], [0., 1.], [1., 0.], [1., 1.]])"
      ]
    },
    {
      "cell_type": "code",
      "execution_count": 6,
      "id": "fda6d77c",
      "metadata": {
        "id": "fda6d77c"
      },
      "outputs": [],
      "source": [
        "# generate dataset\n",
        "X, y = make_blobs(n_samples=1000, centers=2, n_features=2, random_state=1, cluster_std=5)\n",
        "# define bounds of the domain\n",
        "min1, max1 = X[:, 0].min()-1, X[:, 0].max()+1\n",
        "min2, max2 = X[:, 1].min()-1, X[:, 1].max()+1\n",
        "# define the x and y scale\n",
        "x1grid = np.arange(min1, max1, 0.1)\n",
        "x2grid = np.arange(min2, max2, 0.1)\n",
        "# create all of the lines and rows of the grid\n",
        "xx, yy = np.meshgrid(x1grid, x2grid)\n",
        "# flatten each grid to a vector\n",
        "r1, r2 = xx.flatten(), yy.flatten()\n",
        "r1, r2 = r1.reshape((len(r1), 1)), r2.reshape((len(r2), 1))\n",
        "# horizontal stack vectors to create x1,x2 input for the model\n",
        "grid = np.hstack((r1,r2))\n",
        "# define the model\n",
        "model = MLPClassifier(solver='sgd', alpha=1e-5,hidden_layer_sizes=(15, 15), random_state=1)\n",
        "model.fit(X, y)\n",
        "#model = MLPClassifier()\n",
        "# fit the model\n",
        "#model.fit(X, y)\n",
        "# make predictions for the grid\n",
        "yhat = model.predict(grid)\n",
        "# reshape the predictions back into a grid\n",
        "zz = yhat.reshape(xx.shape)\n"
      ]
    },
    {
      "cell_type": "code",
      "source": [
        "# plot the grid of x, y and z values as a surface\n",
        "plt.contourf(xx, yy, zz, cmap='Paired')\n",
        "# create scatter plot for samples from each class\n",
        "for class_value in range(2):\n",
        "    # get row indexes for samples with this class\n",
        "    row_ix = np.where(y == class_value)\n",
        "    # create scatter of these samples\n",
        "    plt.scatter(X[row_ix, 0], X[row_ix, 1], cmap='Paired')"
      ],
      "metadata": {
        "colab": {
          "base_uri": "https://localhost:8080/",
          "height": 265
        },
        "id": "1cdpk0bp1zhu",
        "outputId": "fbf71b61-c0f0-4fd8-cc36-4d62f8d39839"
      },
      "id": "1cdpk0bp1zhu",
      "execution_count": 7,
      "outputs": [
        {
          "output_type": "display_data",
          "data": {
            "text/plain": [
              "<Figure size 432x288 with 1 Axes>"
            ],
            "image/png": "[encoded data removed]"
          },
          "metadata": {
            "needs_background": "light"
          }
        }
      ]
    },
    {
      "cell_type": "code",
      "execution_count": null,
      "id": "c3408e11",
      "metadata": {
        "id": "c3408e11"
      },
      "outputs": [],
      "source": []
    },
    {
      "cell_type": "markdown",
      "id": "f5e8e303",
      "metadata": {
        "id": "f5e8e303"
      },
      "source": [
        "Referências\n",
        "\n",
        "https://scikit-learn.org/stable/modules/generated/sklearn.neural_network.MLPClassifier.html\n",
        "\n",
        "\n",
        "https://scikit-learn.org/stable/auto_examples/neural_networks/plot_mlp_alpha.html#sphx-glr-auto-examples-neural-networks-plot-mlp-alpha-py\n",
        "\n",
        "\n",
        "https://www.kaggle.com/code/androbomb/simple-nn-with-python-multi-layer-perceptron\n"
      ]
    }
  ],
  "metadata": {
    "kernelspec": {
      "display_name": "Python 3 (Spyder)",
      "language": "python3",
      "name": "python3"
    },
    "language_info": {
      "codemirror_mode": {
        "name": "ipython",
        "version": 3
      },
      "file_extension": ".py",
      "mimetype": "text/x-python",
      "name": "python",
      "nbconvert_exporter": "python",
      "pygments_lexer": "ipython3",
      "version": "3.9.13"
    },
    "colab": {
      "provenance": [],
      "include_colab_link": true
    }
  },
  "nbformat": 4,
  "nbformat_minor": 5
}