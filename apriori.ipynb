{
  "cells": [
    {
      "cell_type": "markdown",
      "metadata": {
        "id": "view-in-github",
        "colab_type": "text"
      },
      "source": [
        "<a href=\"https://colab.research.google.com/github/leusto/ciencia_de_dados/blob/main/apriori.ipynb\" target=\"_parent\"><img src=\"https://colab.research.google.com/assets/colab-badge.svg\" alt=\"Open In Colab\"/></a>"
      ]
    },
    {
      "cell_type": "code",
      "source": [
        "pip install apyori"
      ],
      "metadata": {
        "id": "oJiNkeOSG6_a"
      },
      "id": "oJiNkeOSG6_a",
      "execution_count": null,
      "outputs": []
    },
    {
      "cell_type": "code",
      "execution_count": 3,
      "id": "83ed0820",
      "metadata": {
        "id": "83ed0820"
      },
      "outputs": [],
      "source": [
        "import pandas as pd\n",
        "import numpy as np\n",
        "import matplotlib.pyplot as plt\n",
        "from apyori import apriori"
      ]
    },
    {
      "cell_type": "code",
      "source": [
        "source1 = 'https://raw.githubusercontent.com/BejaminNaibei/dataset/main/Market_Basket_Optimisation.csv'\n",
        "source2 = 'https://raw.githubusercontent.com/leusto/Datasets_Livro_IntMineracaoDados/master/apriori.csv'"
      ],
      "metadata": {
        "id": "rBKbEhT6clbD"
      },
      "id": "rBKbEhT6clbD",
      "execution_count": 4,
      "outputs": []
    },
    {
      "cell_type": "code",
      "source": [
        "Data = pd.read_csv(source2, header = None)"
      ],
      "metadata": {
        "id": "dvs6GfpTZDPY"
      },
      "id": "dvs6GfpTZDPY",
      "execution_count": 36,
      "outputs": []
    },
    {
      "cell_type": "code",
      "source": [
        "Data"
      ],
      "metadata": {
        "id": "qn_-0qDYZtY-"
      },
      "id": "qn_-0qDYZtY-",
      "execution_count": null,
      "outputs": []
    },
    {
      "cell_type": "code",
      "source": [
        "transacts = []\n",
        "# populating a list of transactions\n",
        "for i in range(0, Data.shape[0]): \n",
        "  transacts.append([str(Data.values[i,j]) for j in range(0, Data.shape[1])])"
      ],
      "metadata": {
        "id": "U58RQUnAZ91W"
      },
      "id": "U58RQUnAZ91W",
      "execution_count": 38,
      "outputs": []
    },
    {
      "cell_type": "code",
      "source": [
        "transacts"
      ],
      "metadata": {
        "id": "JHYzLZeIfqmi",
        "colab": {
          "base_uri": "https://localhost:8080/"
        },
        "outputId": "f7704a48-78c6-4be7-a0d9-0047c1cec339"
      },
      "id": "JHYzLZeIfqmi",
      "execution_count": 39,
      "outputs": [
        {
          "output_type": "execute_result",
          "data": {
            "text/plain": [
              "[['guarana', 'sabao', 'nan', 'nan'],\n",
              " ['cerveja', 'nan', 'nan', 'nan'],\n",
              " ['fralda', 'cerveja', 'nan', 'nan'],\n",
              " ['fralda', 'sabao', 'nan', 'nan'],\n",
              " ['fralda', 'cerveja', 'nan', 'nan'],\n",
              " ['fralda', 'cerveja', 'sabao', 'nan'],\n",
              " ['cerveja', 'nan', 'nan', 'nan'],\n",
              " ['leite', 'fralda', 'cerveja', 'sabao'],\n",
              " ['sabao', 'nan', 'nan', 'nan'],\n",
              " ['fralda', 'cerveja', 'nan', 'nan']]"
            ]
          },
          "metadata": {},
          "execution_count": 39
        }
      ]
    },
    {
      "cell_type": "code",
      "source": [
        "supp = 0.0003\n",
        "conf = 0.05\n",
        "lift = 2"
      ],
      "metadata": {
        "id": "aHvgu0dxetRb"
      },
      "id": "aHvgu0dxetRb",
      "execution_count": 25,
      "outputs": []
    },
    {
      "cell_type": "code",
      "source": [
        "rule = apriori(transactions = transacts, min_support = supp, min_confidence = conf, min_lift = lift, min_length = 2, max_length = 2)\n",
        "#list(rule) "
      ],
      "metadata": {
        "id": "30R9oSV3aC19"
      },
      "id": "30R9oSV3aC19",
      "execution_count": 30,
      "outputs": []
    },
    {
      "cell_type": "code",
      "source": [
        "output = list(rule) # returns a non-tabular output\n",
        "# putting output into a pandas dataframe\n",
        "def inspect(output):\n",
        "    lhs         = [tuple(result[2][0][0])[0] for result in output]\n",
        "    rhs         = [tuple(result[2][0][1])[0] for result in output]\n",
        "    support    = [result[1] for result in output]\n",
        "    confidence = [result[2][0][2] for result in output]\n",
        "    lift       = [result[2][0][3] for result in output]\n",
        "    return list(zip(lhs, rhs, support, confidence, lift))\n",
        "output_DataFrame = pd.DataFrame(inspect(res), columns = ['Left_Hand_Side', 'Right_Hand_Side', 'Support', 'Confidence', 'Lift'])"
      ],
      "metadata": {
        "id": "im1pCzfLaVJT"
      },
      "id": "im1pCzfLaVJT",
      "execution_count": null,
      "outputs": []
    },
    {
      "cell_type": "code",
      "source": [
        "output_DataFrame"
      ],
      "metadata": {
        "id": "tK6rTRGP2avv"
      },
      "id": "tK6rTRGP2avv",
      "execution_count": null,
      "outputs": []
    },
    {
      "cell_type": "markdown",
      "id": "e95bceea",
      "metadata": {
        "id": "e95bceea"
      },
      "source": [
        "Referências\n",
        "\n",
        "https://www.kaggle.com/code/sangwookchn/association-rule-learning-with-scikit-learn/notebook\n",
        "\n",
        "https://www.geeksforgeeks.org/implementing-apriori-algorithm-in-python/"
      ]
    }
  ],
  "metadata": {
    "kernelspec": {
      "display_name": "Python 3 (Spyder)",
      "language": "python3",
      "name": "python3"
    },
    "language_info": {
      "codemirror_mode": {
        "name": "ipython",
        "version": 3
      },
      "file_extension": ".py",
      "mimetype": "text/x-python",
      "name": "python",
      "nbconvert_exporter": "python",
      "pygments_lexer": "ipython3",
      "version": "3.9.13"
    },
    "colab": {
      "provenance": [],
      "include_colab_link": true
    }
  },
  "nbformat": 4,
  "nbformat_minor": 5
}