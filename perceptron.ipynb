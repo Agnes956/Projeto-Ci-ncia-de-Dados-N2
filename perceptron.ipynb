{
  "cells": [
    {
      "cell_type": "markdown",
      "metadata": {
        "id": "view-in-github",
        "colab_type": "text"
      },
      "source": [
        "<a href=\"https://colab.research.google.com/github/leusto/ciencia_de_dados/blob/main/perceptron.ipynb\" target=\"_parent\"><img src=\"https://colab.research.google.com/assets/colab-badge.svg\" alt=\"Open In Colab\"/></a>"
      ]
    },
    {
      "cell_type": "code",
      "execution_count": 9,
      "id": "16c1530f",
      "metadata": {
        "id": "16c1530f"
      },
      "outputs": [],
      "source": [
        "import numpy as np\n",
        "from sklearn.datasets import make_blobs\n",
        "from sklearn.linear_model import Perceptron\n",
        "from matplotlib import pyplot as plt\n",
        "from sklearn.metrics import accuracy_score, confusion_matrix"
      ]
    },
    {
      "cell_type": "code",
      "execution_count": 3,
      "id": "f9078267",
      "metadata": {
        "id": "f9078267"
      },
      "outputs": [],
      "source": [
        "X = [[0., 0.], [0., 1.], [1., 0.], [1., 1.]]\n",
        "y = [0, 0, 0, 1]"
      ]
    },
    {
      "cell_type": "code",
      "execution_count": 4,
      "id": "7e026e03",
      "metadata": {
        "colab": {
          "base_uri": "https://localhost:8080/"
        },
        "id": "7e026e03",
        "outputId": "0543f40c-dad9-4714-d365-015d5af9475b"
      },
      "outputs": [
        {
          "output_type": "execute_result",
          "data": {
            "text/plain": [
              "Perceptron()"
            ]
          },
          "metadata": {},
          "execution_count": 4
        }
      ],
      "source": [
        "clf = Perceptron(tol=1e-3, random_state=0)\n",
        "clf.fit(X, y)\n",
        "Perceptron()"
      ]
    },
    {
      "cell_type": "code",
      "execution_count": 5,
      "id": "478c3abd",
      "metadata": {
        "colab": {
          "base_uri": "https://localhost:8080/"
        },
        "id": "478c3abd",
        "outputId": "453dd65c-fd27-4c4e-eed5-2c90779a0ddd"
      },
      "outputs": [
        {
          "output_type": "execute_result",
          "data": {
            "text/plain": [
              "array([0, 0, 0, 1])"
            ]
          },
          "metadata": {},
          "execution_count": 5
        }
      ],
      "source": [
        "clf.predict([[0., 0.], [0., 1.], [1., 0.], [1., 1.]])"
      ]
    },
    {
      "cell_type": "code",
      "execution_count": 6,
      "id": "ccf1b6b3",
      "metadata": {
        "colab": {
          "base_uri": "https://localhost:8080/"
        },
        "id": "ccf1b6b3",
        "outputId": "fdde91af-6f0c-47c4-c683-6a0d2a2d56c6"
      },
      "outputs": [
        {
          "output_type": "execute_result",
          "data": {
            "text/plain": [
              "1.0"
            ]
          },
          "metadata": {},
          "execution_count": 6
        }
      ],
      "source": [
        "clf.score(X, y)"
      ]
    },
    {
      "cell_type": "code",
      "execution_count": null,
      "id": "e243f947",
      "metadata": {
        "id": "e243f947"
      },
      "outputs": [],
      "source": []
    },
    {
      "cell_type": "code",
      "execution_count": 16,
      "id": "7a01ceb6",
      "metadata": {
        "id": "7a01ceb6"
      },
      "outputs": [],
      "source": [
        "# generate dataset\n",
        "X, y = make_blobs(n_samples=1000, centers=2, n_features=2, random_state=1, cluster_std=5)\n",
        "# define bounds of the domain\n",
        "min1, max1 = X[:, 0].min()-1, X[:, 0].max()+1\n",
        "min2, max2 = X[:, 1].min()-1, X[:, 1].max()+1\n",
        "# define the x and y scale\n",
        "x1grid = np.arange(min1, max1, 0.1)\n",
        "x2grid = np.arange(min2, max2, 0.1)\n",
        "# create all of the lines and rows of the grid\n",
        "xx, yy = np.meshgrid(x1grid, x2grid)\n",
        "# flatten each grid to a vector\n",
        "r1, r2 = xx.flatten(), yy.flatten()\n",
        "r1, r2 = r1.reshape((len(r1), 1)), r2.reshape((len(r2), 1))\n",
        "# horizontal stack vectors to create x1,x2 input for the model\n",
        "grid = np.hstack((r1,r2))\n",
        "# define the model\n",
        "model = Perceptron(tol=1e-3, random_state=0)\n",
        "model.fit(X, y)\n",
        "#model = Perceptron()\n",
        "# fit the model\n",
        "#model.fit(X, y)\n",
        "# make predictions for the grid\n",
        "yhat = model.predict(grid)\n",
        "# reshape the predictions back into a grid\n",
        "zz = yhat.reshape(xx.shape)\n",
        "\n"
      ]
    },
    {
      "cell_type": "code",
      "execution_count": 17,
      "id": "8ccbf516",
      "metadata": {
        "colab": {
          "base_uri": "https://localhost:8080/",
          "height": 265
        },
        "id": "8ccbf516",
        "outputId": "530c86d8-bfb9-4f50-8750-1ee0eb5cccce"
      },
      "outputs": [
        {
          "output_type": "display_data",
          "data": {
            "text/plain": [
              "<Figure size 432x288 with 1 Axes>"
            ],
            "image/png": "[encoded data removed]"
          },
          "metadata": {
            "needs_background": "light"
          }
        }
      ],
      "source": [
        "# plot the grid of x, y and z values as a surface\n",
        "plt.contourf(xx, yy, zz, cmap='Paired')\n",
        "# create scatter plot for samples from each class\n",
        "for class_value in range(2):\n",
        "    # get row indexes for samples with this class\n",
        "    row_ix = np.where(y == class_value)\n",
        "    # create scatter of these samples\n",
        "    plt.scatter(X[row_ix, 0], X[row_ix, 1], cmap='Paired')"
      ]
    },
    {
      "cell_type": "code",
      "execution_count": null,
      "id": "c7a72c0d",
      "metadata": {
        "id": "c7a72c0d",
        "outputId": "83c94553-ee08-4d1f-8fb6-34bae46290ea"
      },
      "outputs": [
        {
          "ename": "ValueError",
          "evalue": "Classification metrics can't handle a mix of continuous-multioutput and multilabel-indicator targets",
          "output_type": "error",
          "traceback": [
            "Traceback \u001b[0;36m(most recent call last)\u001b[0m:\n",
            "  File \u001b[1;32m\"/var/folders/4k/21wb708d5s1cr_ztgrn0cb740000gn/T/ipykernel_49608/135828672.py\"\u001b[0m, line \u001b[1;32m2\u001b[0m, in \u001b[1;35m<cell line: 2>\u001b[0m\n    cm = confusion_matrix(yy, zz)\n",
            "  File \u001b[1;32m\"/usr/local/lib/python3.9/site-packages/sklearn/metrics/_classification.py\"\u001b[0m, line \u001b[1;32m307\u001b[0m, in \u001b[1;35mconfusion_matrix\u001b[0m\n    y_type, y_true, y_pred = _check_targets(y_true, y_pred)\n",
            "\u001b[0;36m  File \u001b[0;32m\"/usr/local/lib/python3.9/site-packages/sklearn/metrics/_classification.py\"\u001b[0;36m, line \u001b[0;32m93\u001b[0;36m, in \u001b[0;35m_check_targets\u001b[0;36m\u001b[0m\n\u001b[0;31m    raise ValueError(\u001b[0m\n",
            "\u001b[0;31mValueError\u001b[0m\u001b[0;31m:\u001b[0m Classification metrics can't handle a mix of continuous-multioutput and multilabel-indicator targets\n"
          ]
        }
      ],
      "source": [
        "# Plot the confusion matrix\n",
        "cm = confusion_matrix(yy, zz)\n",
        "\n",
        "df_cm = pd.DataFrame(cm, index = [dict_live[i] for i in range(0,2)], columns = [dict_live[i] for i in range(0,2)])\n",
        "plt.figure(figsize = (7,7))\n",
        "sns.heatmap(df_cm, annot=True, cmap=plt.cm.Blues, fmt='g')\n",
        "plt.xlabel(\"Predicted Class\", fontsize=18)\n",
        "plt.ylabel(\"True Class\", fontsize=18)\n",
        "plt.show()"
      ]
    },
    {
      "cell_type": "code",
      "execution_count": null,
      "id": "ff12f259",
      "metadata": {
        "id": "ff12f259",
        "outputId": "ad631912-603b-4a99-ff96-0ca477e1035b"
      },
      "outputs": [
        {
          "data": {
            "text/plain": [
              "array([[1, 1, 1, ..., 0, 0, 0],\n",
              "       [1, 1, 1, ..., 0, 0, 0],\n",
              "       [1, 1, 1, ..., 0, 0, 0],\n",
              "       ...,\n",
              "       [1, 1, 1, ..., 0, 0, 0],\n",
              "       [1, 1, 1, ..., 0, 0, 0],\n",
              "       [1, 1, 1, ..., 0, 0, 0]])"
            ]
          },
          "execution_count": 20,
          "metadata": {},
          "output_type": "execute_result"
        }
      ],
      "source": [
        "zz"
      ]
    },
    {
      "cell_type": "markdown",
      "id": "2671e23c",
      "metadata": {
        "id": "2671e23c"
      },
      "source": [
        "Bibliografia\n",
        "\n",
        "https://scikit-learn.org/0.15/modules/generated/sklearn.linear_model.Perceptron.html  \n",
        "\n",
        "https://scikit-learn.org/stable/modules/generated/sklearn.linear_model.Perceptron.html\n",
        "\n",
        "\n",
        "https://python-course.eu/machine-learning/perceptron-class-in-sklearn.php\n",
        "\n",
        "https://hackernoon.com/how-to-plot-a-decision-boundary-for-machine-learning-algorithms-in-python-3o1n3w07\n",
        "\n",
        "https://stackoverflow.com/questions/22294241/plotting-a-decision-boundary-separating-2-classes-using-matplotlibs-pyplot"
      ]
    }
  ],
  "metadata": {
    "kernelspec": {
      "display_name": "Python 3 (Spyder)",
      "language": "python3",
      "name": "python3"
    },
    "language_info": {
      "codemirror_mode": {
        "name": "ipython",
        "version": 3
      },
      "file_extension": ".py",
      "mimetype": "text/x-python",
      "name": "python",
      "nbconvert_exporter": "python",
      "pygments_lexer": "ipython3",
      "version": "3.9.13"
    },
    "colab": {
      "provenance": [],
      "include_colab_link": true
    }
  },
  "nbformat": 4,
  "nbformat_minor": 5
}